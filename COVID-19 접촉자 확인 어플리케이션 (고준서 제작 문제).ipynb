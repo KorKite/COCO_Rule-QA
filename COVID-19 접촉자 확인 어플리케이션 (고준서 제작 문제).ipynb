{
 "cells": [
  {
   "cell_type": "markdown",
   "metadata": {},
   "source": [
    "# COVID-19 접촉자 확인 어플리케이션 \n",
    "    \n",
    "직접제작한 문제입니다.\n",
    "https://level.goorm.io/exam/66747/covid-19-접촉자-확인-어플리케이션/quiz/1\n",
    "\n",
    "https://www.youtube.com/watch?v=Pnd_cyvEuH8&t=338s \n",
    "(이 링크에 등장하는 서비스를 기반으로 생각한 문제입니다)\n",
    "\n",
    "최근 구글과 애플이 협업하여, 코로나 접촉자의 기록을 공개하는 어플리케이션을 제작한다고 발표했습니다. 이 어플은 두 사람이 블루투스로 연결될 정도로 가까운 거리에 일정시간 이상 있으면 그 내용을 기록합니다.\n",
    "\n",
    "그리고 어느날 한 사람이 본인의 감염사실을 어플에 알리면 기록에 있던 사람들에게 감염 주의를 보냅니다. 문제를 통해 몇명이 감염경보를 받게 되는지 구하시오.\n",
    "\n",
    "\n",
    "\n",
    "### 입력\n",
    "\n",
    "첫 줄엔 사람의 수와 접촉건수 N, K (1 < N < 1000, 0< K  <100)가 주어집니다. N명의 사람에겐 0번부터 N-1번까지의 아이디가 부여됩니다.\n",
    "\n",
    "둘째줄부터 K+1줄까지 접촉기록 a,b가 K개가 주어집니다. (시간은 순서가 없습니다) a와 b는 두 사람 아이디입니다. a와 b는 순서와 관계없이 상호접촉자인 것입니다.\n",
    "\n",
    "마지막줄 (K+2)줄에는 감염자 한명이 주어집니다.\n",
    "\n",
    "몇 명이 감염주의를 받게 될지 출력하시오. 단 감염이 가능한 이후의 기록들만 보관하기 때문에 접촉자의 접촉자 역시 감염 주의를 보내야합니다\n",
    "\n",
    "\n",
    "\n",
    "### 출력\n",
    "\n",
    "몇명이 감염주의를 받게 되는지 한줄에 프린트하세요\n",
    "\n"
   ]
  },
  {
   "cell_type": "code",
   "execution_count": null,
   "metadata": {},
   "outputs": [],
   "source": [
    "def connect():\n",
    "    for i in range(n):\n",
    "        for j in range(n):\n",
    "            for k in range(n):\n",
    "                if i != j and i != k and j != k:\n",
    "                    if record[i][j] != False:\n",
    "                        if record[i][k] == True and record[k][j] == True:\n",
    "                            record[i][j] = True\n",
    "\n",
    "def find(n, v):\n",
    "    count = 0\n",
    "    visited = [False] * (n)\n",
    "    queue = []\n",
    "    queue.append(v)\n",
    "    while len(queue) != 0:\n",
    "        v = queue.pop(0)\n",
    "        if not visited[v]:\n",
    "            count += 1\n",
    "            visited[v] = True\n",
    "        node = record[v]\n",
    "        for i in range(n):\n",
    "            if node[i]:\n",
    "                if not visited[i]:\n",
    "                    queue.append(i)\n",
    "    return count\n",
    "\n",
    "n, k = map(int, input().split())\n",
    "record = [[False for i in range(n)] for i in range(n)]\n",
    "for i in range(n):\n",
    "    record[i][i] = None\n",
    "for i in range(k):\n",
    "    a,b = map(int, input().split())\n",
    "    record[a][b] = True\n",
    "    record[b][a] = True\n",
    "positive = int(input())\n",
    "connect()\n",
    "number = find(n, positive)\n",
    "print(number-1)"
   ]
  }
 ],
 "metadata": {
  "kernelspec": {
   "display_name": "Python 3",
   "language": "python",
   "name": "python3"
  },
  "language_info": {
   "codemirror_mode": {
    "name": "ipython",
    "version": 3
   },
   "file_extension": ".py",
   "mimetype": "text/x-python",
   "name": "python",
   "nbconvert_exporter": "python",
   "pygments_lexer": "ipython3",
   "version": "3.7.7"
  }
 },
 "nbformat": 4,
 "nbformat_minor": 4
}
