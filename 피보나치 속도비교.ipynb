{
 "cells": [
  {
   "cell_type": "markdown",
   "metadata": {},
   "source": [
    "## 두 방법의 속도를 측정\n",
    "time.time() 으로 코드의 시작시간과 끝시간을 구하여 그것의 차를 확인하여 무엇이 더 빠르게 처리되나 확인한다.\n",
    "40항까지의 연산속도를 측정한다."
   ]
  },
  {
   "cell_type": "code",
   "execution_count": 18,
   "metadata": {},
   "outputs": [],
   "source": [
    "import time #time.time()을 사용하기 위해 모듈 호출"
   ]
  },
  {
   "cell_type": "code",
   "execution_count": 19,
   "metadata": {},
   "outputs": [],
   "source": [
    "number = 40"
   ]
  },
  {
   "cell_type": "markdown",
   "metadata": {},
   "source": [
    "## Fibonacci with recursion\n",
    "재귀함수로 구현한 피보나치 함수"
   ]
  },
  {
   "cell_type": "code",
   "execution_count": 20,
   "metadata": {},
   "outputs": [
    {
     "name": "stdout",
     "output_type": "stream",
     "text": [
      "102334155\n"
     ]
    }
   ],
   "source": [
    "rec_start = time.time()\n",
    "def fibo(n):\n",
    "    if n == 0 or n == 1:\n",
    "        return 1\n",
    "    else:\n",
    "        return fibo(n-1) + fibo(n-2)\n",
    "\n",
    "print(fibo(number - 1))\n",
    "rec_end = time.time()"
   ]
  },
  {
   "cell_type": "markdown",
   "metadata": {},
   "source": [
    "## Fibonacci with DP\n",
    "동적 계획법으로 구현한 피보나치 함수"
   ]
  },
  {
   "cell_type": "code",
   "execution_count": 21,
   "metadata": {},
   "outputs": [
    {
     "name": "stdout",
     "output_type": "stream",
     "text": [
      "102334155\n"
     ]
    }
   ],
   "source": [
    "fib_start = time.time()\n",
    "\n",
    "a = [1,1] + [0]*number\n",
    "check = 2\n",
    "while (check < number):\n",
    "    a[check] = a[check-1] + a[check-2]\n",
    "    check +=1\n",
    "\n",
    "print(a[number-1])\n",
    "fib_end = time.time()"
   ]
  },
  {
   "cell_type": "markdown",
   "metadata": {},
   "source": [
    "## 연산속도 비교"
   ]
  },
  {
   "cell_type": "code",
   "execution_count": 28,
   "metadata": {},
   "outputs": [
    {
     "name": "stdout",
     "output_type": "stream",
     "text": [
      "재귀함수 연산시간 - 21.3526\n"
     ]
    }
   ],
   "source": [
    "print(\"재귀함수 연산시간 - %0.4f\"%(rec_end - rec_start))"
   ]
  },
  {
   "cell_type": "code",
   "execution_count": 29,
   "metadata": {},
   "outputs": [
    {
     "name": "stdout",
     "output_type": "stream",
     "text": [
      "피보나치함수 연산시간 - 0.0004\n"
     ]
    }
   ],
   "source": [
    "print(\"피보나치함수 연산시간 - %0.4f\"%(fib_end - fib_start))"
   ]
  },
  {
   "cell_type": "markdown",
   "metadata": {},
   "source": [
    "숫자가 작을 수록 연산시간의 차이가 적지만 숫자가 커질 수록 속도의 차이는 확연해진다.\n",
    "\n",
    "45항만 큰 차이를 보인다. 재귀함수의 경우 100항 정도를 구하려해도 엄청난 양의 연산이 필요로 된다.\n",
    "그러나 DP의 경우 1초의 시간도 걸리지 않는다."
   ]
  }
 ],
 "metadata": {
  "kernelspec": {
   "display_name": "Python 3",
   "language": "python",
   "name": "python3"
  },
  "language_info": {
   "codemirror_mode": {
    "name": "ipython",
    "version": 3
   },
   "file_extension": ".py",
   "mimetype": "text/x-python",
   "name": "python",
   "nbconvert_exporter": "python",
   "pygments_lexer": "ipython3",
   "version": "3.7.7"
  }
 },
 "nbformat": 4,
 "nbformat_minor": 4
}
